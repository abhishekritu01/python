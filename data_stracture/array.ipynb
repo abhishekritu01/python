{
 "cells": [
  {
   "cell_type": "code",
   "execution_count": 13,
   "metadata": {},
   "outputs": [
    {
     "name": "stdout",
     "output_type": "stream",
     "text": [
      "9\n",
      "2\n"
     ]
    }
   ],
   "source": [
    "def findMaxMin():\n",
    "    a = [4,2,3,5,6,9]\n",
    "    maxValue = 0\n",
    "    minValue = 0\n",
    "    for i in range(len(a)):\n",
    "        if(a[i] > maxValue):\n",
    "            maxValue = a[i]\n",
    "    \n",
    "    print(maxValue)\n",
    "    \n",
    "    for i in range(len(a)):\n",
    "        if(a[i] < maxValue):\n",
    "            maxValue = a[i]\n",
    "    \n",
    "    print(maxValue)\n",
    "    \n",
    "    \n",
    "    \n",
    "findMaxMin()        "
   ]
  },
  {
   "cell_type": "code",
   "execution_count": 4,
   "metadata": {},
   "outputs": [
    {
     "name": "stdout",
     "output_type": "stream",
     "text": [
      "None\n"
     ]
    }
   ],
   "source": []
  }
 ],
 "metadata": {
  "kernelspec": {
   "display_name": "Python 3",
   "language": "python",
   "name": "python3"
  },
  "language_info": {
   "codemirror_mode": {
    "name": "ipython",
    "version": 3
   },
   "file_extension": ".py",
   "mimetype": "text/x-python",
   "name": "python",
   "nbconvert_exporter": "python",
   "pygments_lexer": "ipython3",
   "version": "3.12.0"
  }
 },
 "nbformat": 4,
 "nbformat_minor": 2
}
