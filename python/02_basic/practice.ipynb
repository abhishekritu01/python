{
 "cells": [
  {
   "cell_type": "code",
   "execution_count": null,
   "metadata": {},
   "outputs": [],
   "source": [
    "test = \"helloworld\"\n",
    "print(test[::-1])      # reverse string\n",
    "\n",
    "print(test[::2])       # print alternate characters\n",
    "\n",
    "for item in test:\n",
    "    print(item, end=\" \")    # print each character in string  # print each character in string\n",
    "\n",
    "# reversed_string =\"\";\n",
    "# for i in test:\n",
    "#     reversed_string = i + reversed_string\n",
    "#     print()\n",
    "#     print(reversed_string,\"-----\")\n",
    "\n",
    "# print(reversed_string,\"-----\")     # reverse string    \n",
    "\n",
    "\n",
    "a1 = \"   hello pyhton  \"\n",
    "print(\"\\n\",a1.strip())\n",
    "\n",
    "h1 =\"abhishekkumar\"\n",
    "print(list(h1))"
   ]
  },
  {
   "cell_type": "code",
   "execution_count": null,
   "metadata": {},
   "outputs": [],
   "source": [
    "h1 =\"abhishekkumar\"    \n",
    "print(list(h1))          #string to list \n",
    "\n",
    "h2 =[\"hello\",\"world\",\"test\",\"abhishek\"]\n",
    "# print(h2)\n",
    "st1 = \",\".join(h2)\n",
    "st2 = \"-\".join(h2)\n",
    "print(st1)\n",
    "print(st2)\n",
    "\n",
    "\n",
    "list3 = [\"hello\", \"world\", \"hello\", \"chai\", \"python\", \"java\"]\n",
    "print(list3.count(\"hello\")) \n",
    "print(len(list3))\n",
    "print(list3[:4])\n",
    "print(list3[::-1])\n",
    "print(\"-\".join(list3))\n",
    "print(\"-\".join(list3))\n",
    "\n",
    "\n",
    "list1 = \"hello, world, chai, python, java, c++\"\n",
    "print(list1)\n",
    "print(list1.split(\", \"))   \n",
    "print(list1.split(\", \",2))    # for \n",
    "\n",
    "\n",
    "\n",
    "\n",
    "\n"
   ]
  },
  {
   "cell_type": "code",
   "execution_count": 78,
   "metadata": {},
   "outputs": [
    {
     "name": "stdout",
     "output_type": "stream",
     "text": [
      "[0, 1, 4, 9, 16, 25, 36, 49, 64, 81]\n"
     ]
    }
   ],
   "source": [
    "square =[x**2 for x in range(10)]\n",
    "print(square)\n"
   ]
  },
  {
   "cell_type": "code",
   "execution_count": null,
   "metadata": {},
   "outputs": [],
   "source": [
    "# list\n",
    "\n",
    "tea_varities = ['Darjeeling', 'Assam', 'Nilgiri', 'Sikkim', 'Kangra']\n",
    "print(tea_varities[2])\n",
    "print(tea_varities[:4])\n",
    "print(len(tea_varities))\n",
    "print(tea_varities[::-1])\n",
    "tea_varities[3] =\"abhishek\"   # fro insert value in list\n",
    "print(tea_varities)\n",
    "\n",
    "print(tea_varities[-3:])\n",
    "\n",
    "# replace \n",
    "tea_varities[1:2]=[\"abhishek\",\"arnav\"]\n",
    "print(tea_varities)\n",
    "\n",
    "tea_varities.append(\"nibu chai\")\n",
    "print(tea_varities)\n",
    "\n",
    "tea_varities.insert(1,\"test\")\n",
    "print(tea_varities)\n",
    "\n",
    "tea_varities.pop()\n",
    "print(tea_varities)\n",
    "\n",
    "tea_varities.remove(\"test\")\n",
    "print(tea_varities)"
   ]
  },
  {
   "cell_type": "code",
   "execution_count": null,
   "metadata": {},
   "outputs": [],
   "source": [
    "list1 =[2,4,1,6,7]\n",
    "list2 =[7,8,15,9,14]\n",
    "\n",
    "list3 = list1 +list2\n",
    "print(sorted(list3))       # sort list\n",
    "list3.reverse()            # reverse list       \n",
    "print(list3)\n",
    "n = len(list3)\n",
    "for i in range(n):\n",
    "    for j in range(0, n-i-1):\n",
    "        if list3[j] > list3[j+1]:\n",
    "            # Swap the elements\n",
    "            list3[j], list3[j+1] = list3[j+1], list3[j]\n",
    "\n",
    "print(list3)\n",
    "        \n",
    "    \n",
    "        \n"
   ]
  },
  {
   "cell_type": "code",
   "execution_count": 146,
   "metadata": {},
   "outputs": [
    {
     "name": "stdout",
     "output_type": "stream",
     "text": [
      "adrak is present in the dictionary\n",
      "{'a': 'hello', 'b': 'hello', 'c': 'hello', 'd': 'hello'}\n",
      "{'a': 1, 'b': 2, 'c': 3, 'd': 4}\n",
      "dict_keys(['a', 'b', 'c', 'd'])\n",
      "dict_values([1, 2, 3, 4])\n",
      "{'a': 1, 'b': 2, 'c': 3, 'd': 4, 'e': 11115}\n"
     ]
    }
   ],
   "source": [
    "# dictionary\n",
    "from email.policy import default\n",
    "\n",
    "\n",
    "chai_type = {\"masala\": \"spicy\", \"adrak\": \"ginger\", \"elaichi\": \"cardamom\"}\n",
    "\n",
    "# for key in chai_type:\n",
    "#     # print(key,\"--\",chai_type[key])\n",
    "#     # print(key)\n",
    "#     print(chai_type[key])\n",
    "\n",
    "\n",
    "# for key, value in chai_type.items():\n",
    "#     print(key, \":\", value)\n",
    "\n",
    "\n",
    "if \"adrak\" in chai_type:\n",
    "    print(\"adrak is present in the dictionary\")\n",
    "else:\n",
    "    print(\"adrak is not present in the dictionary\")\n",
    "    \n",
    "    \n",
    "# del chai_type[\"masala\"]  \n",
    "# print(chai_type)  \n",
    "\n",
    "\n",
    "# copy dictionary\n",
    "# chai_type1 = chai_type.copy()\n",
    "# print(chai_type1)\n",
    "\n",
    "# tea_shop = {\n",
    "#     \"chai\": {\"masala\": \"spicy\", \"adrak\": \"ginger\", \"elaichi\": \"cardamom\"},\n",
    "#     \"coffee\": {\"black\": \"without milk\", \"latte\": \"with milk\"}\n",
    "# }\n",
    "\n",
    "# print(type(tea_shop))\n",
    "# print(tea_shop[\"chai\"]) \n",
    "# print(tea_shop[\"chai\"][\"masala\"]) \n",
    "\n",
    "# creating dictionary from keys and values\n",
    "keys = ['a', 'b', 'c', 'd']\n",
    "values = [1, 2, 3, 4]\n",
    "defaultValue = \"hello\"\n",
    "\n",
    "dictionary1 = dict.fromkeys(keys, defaultValue)\n",
    "print(dictionary1)\n",
    "\n",
    "dictionary2 = dict(zip(keys, values))\n",
    "print(dictionary2)\n",
    "print(dictionary2.keys())\n",
    "print(dictionary2.values())\n",
    "\n",
    "# update dictionary\n",
    "dictionary2.update({\"e\": 11115})\n",
    "print(dictionary2)\n",
    "\n",
    "\n",
    "\n",
    "\n"
   ]
  },
  {
   "cell_type": "code",
   "execution_count": 150,
   "metadata": {},
   "outputs": [
    {
     "name": "stdout",
     "output_type": "stream",
     "text": [
      "('masala', 'adrak', 'elaichi')\n",
      "masala\n",
      "adrak\n",
      "elaichi\n",
      "elaichi\n"
     ]
    }
   ],
   "source": [
    "\n",
    "tea_types = (\"masala\", \"adrak\", \"elaichi\")\n",
    "print(tea_types)\n",
    "\n",
    "for i in tea_types:\n",
    "    print(i)\n",
    "    \n",
    "    \n",
    "print(tea_types[-1])    "
   ]
  }
 ],
 "metadata": {
  "kernelspec": {
   "display_name": "py310",
   "language": "python",
   "name": "python3"
  },
  "language_info": {
   "codemirror_mode": {
    "name": "ipython",
    "version": 3
   },
   "file_extension": ".py",
   "mimetype": "text/x-python",
   "name": "python",
   "nbconvert_exporter": "python",
   "pygments_lexer": "ipython3",
   "version": "3.10.14"
  }
 },
 "nbformat": 4,
 "nbformat_minor": 2
}
