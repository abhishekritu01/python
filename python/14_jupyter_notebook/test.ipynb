{
 "cells": [
  {
   "cell_type": "code",
   "execution_count": 7,
   "metadata": {},
   "outputs": [
    {
     "name": "stdout",
     "output_type": "stream",
     "text": [
      "{'a': 1, 'b': 3, 'c': 4}\n",
      "dict_keys(['a', 'b'])\n",
      "dict_values([1, 2])\n",
      "[11, 2, 13, 4, 5, 6, 7, 8, 9, 10]\n"
     ]
    }
   ],
   "source": [
    "dict1 = {'a': 1, 'b': 2}\n",
    "dict2 = {'b': 3, 'c': 4}\n",
    "merged_dict = {**dict1, **dict2}  # merge dictionaries\n",
    "print(merged_dict)\n",
    "print(dict1.keys())\n",
    "print(dict1.values())\n",
    "\n",
    "list1 =[11,2,13,4,5]\n",
    "list2 = [6,7,8,9,10]\n",
    "\n",
    "# Concatenation\n",
    "list3 = list1 + list2\n",
    "\n",
    "print(list3)"
   ]
  },
  {
   "cell_type": "code",
   "execution_count": 11,
   "metadata": {},
   "outputs": [
    {
     "name": "stdout",
     "output_type": "stream",
     "text": [
      "('masala', 'adrak', 'elaichi')\n",
      "masala\n",
      "elaichi\n",
      "3\n",
      "('masala', 'adrak', 'elaichi', 'ginger', 'cardamom', 'something else')\n",
      "hello world\n",
      "l\n",
      "hello\n",
      "world\n",
      "dlrow olleh\n"
     ]
    }
   ],
   "source": [
    "tea_types = (\"masala\", \"adrak\", \"elaichi\")\n",
    "print(tea_types)\n",
    "\n",
    "print(tea_types[0])\n",
    "print(tea_types[-1])\n",
    "\n",
    "print(len(tea_types))\n",
    "\n",
    "tea_types = tea_types + (\"ginger\", \"cardamom\",\"something else\")\n",
    "\n",
    "print(tea_types)\n",
    "\n",
    "\n",
    "chai = \"hello world\"\n",
    "print(chai)                 # Output: hello world\n",
    "print(chai[2])              # Output: l\n",
    "print(chai[0:5])            # Output: hello\n",
    "print(chai[6:])             # Output: world\n",
    "print(chai[::-1]) "
   ]
  }
 ],
 "metadata": {
  "kernelspec": {
   "display_name": "py310",
   "language": "python",
   "name": "python3"
  },
  "language_info": {
   "codemirror_mode": {
    "name": "ipython",
    "version": 3
   },
   "file_extension": ".py",
   "mimetype": "text/x-python",
   "name": "python",
   "nbconvert_exporter": "python",
   "pygments_lexer": "ipython3",
   "version": "3.10.14"
  }
 },
 "nbformat": 4,
 "nbformat_minor": 2
}
